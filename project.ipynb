{
 "cells": [
  {
   "cell_type": "markdown",
   "id": "f86dc8f1",
   "metadata": {},
   "source": [
    "# **Análise e predição do posicionamento político do eleitor brasileiro**"
   ]
  },
  {
   "cell_type": "markdown",
   "id": "f7d5a9ca",
   "metadata": {},
   "source": [
    "Projeto final realizado para a disciplina de Ciência de Dados do curso de Ciência da Computação, *Universidade de São Paulo*."
   ]
  },
  {
   "cell_type": "markdown",
   "id": "cd963c54",
   "metadata": {},
   "source": [
    "## **Introdução**"
   ]
  },
  {
   "cell_type": "markdown",
   "id": "fdb4ac1e",
   "metadata": {},
   "source": [
    "O presente trabalho tem como objetivo realizar, primeiramente, uma *análise exploratória* dos dados provenientes de uma pesquisa de opinião sobre o perfil ideológico dos eleitores brasileiros, feita pelo Instituto DataSenado no ano de 2024. O conjunto de dados original contém diversas variáveis de natureza sociodemográfica, comportamental e política, mas nem todas serão utilizadas. Serão mantidas somente aquelas que possam contribuir para compreender a variável alvo (*target*) **Posicionamento Político**, que representa o espectro político autodeclarado por cada participante. A análise de dados buscará, portanto, investigar as relações entre a variável target e as demais variáveis selecionadas, por meio de visualizações gráficas e métodos estatísticos. \n",
    "\n",
    "Após a fase exploratória, o projeto avançará para a segunda etapa: a construção de um modelo preditivo. Com o uso de técnicas de *machine learning*, o objetivo será desenvolver um modelo capaz de prever o espectro político com base nas respostas às variáveis selecionadas da pesquisa.\n",
    "\n",
    "Importante mencionar que este trabalho não se preocupará em fazer inferência sobre a preferência política da população brasileira como um todo, tendo em vista que uma parcela significativa dos dados originais não será utilizada.\n",
    "\n",
    "* <small>Os dados utilizados neste trabalho foram obtidos por meio dos microdados disponibilizados pelo Instituto DataSenado em <a href=\"https://www12.senado.leg.br/institucional/datasenado/publicacaodatasenado?id=pesquisa-traca-perfil-ideologico-dos-eleitores-brasileiros\" target=\"_blank\" rel=\"noopener noreferrer\">Pesquisa traça perfil ideológico dos eleitores brasileiros</a>.</small>\n",
    "* <small>Junto com os dados foi disponibilizado um dicionário para auxiliar na interpretação.</small>"
   ]
  },
  {
   "cell_type": "markdown",
   "id": "e2823bd3",
   "metadata": {},
   "source": [
    "## **1. Importação de bibliotecas**"
   ]
  },
  {
   "cell_type": "code",
   "execution_count": 8,
   "id": "22ea69bf",
   "metadata": {},
   "outputs": [],
   "source": [
    "import pandas as pd\n",
    "import matplotlib.pyplot as plt\n",
    "import seaborn as sns"
   ]
  },
  {
   "cell_type": "markdown",
   "id": "1691365f",
   "metadata": {},
   "source": [
    "## **2. Carregamento dos dados**"
   ]
  },
  {
   "cell_type": "code",
   "execution_count": 9,
   "id": "0a048509",
   "metadata": {},
   "outputs": [],
   "source": [
    "df = pd.read_csv(r'data\\raw\\panorama_politico_06_2024\\DATASEN BR 2024 06 BAROMETRO - DADOS.csv', sep=';')"
   ]
  },
  {
   "cell_type": "markdown",
   "id": "dfa3ca88",
   "metadata": {},
   "source": [
    "## **3. Visão geral dos dados não tratados**"
   ]
  },
  {
   "cell_type": "code",
   "execution_count": 10,
   "id": "9948eefb",
   "metadata": {},
   "outputs": [
    {
     "data": {
      "text/plain": [
       "(21808, 109)"
      ]
     },
     "execution_count": 10,
     "metadata": {},
     "output_type": "execute_result"
    }
   ],
   "source": [
    "df.shape"
   ]
  },
  {
   "cell_type": "code",
   "execution_count": 11,
   "id": "ba1ea0bc",
   "metadata": {},
   "outputs": [
    {
     "name": "stdout",
     "output_type": "stream",
     "text": [
      "<class 'pandas.core.frame.DataFrame'>\n",
      "RangeIndex: 21808 entries, 0 to 21807\n",
      "Columns: 109 entries, ID to W2\n",
      "dtypes: float64(49), int64(52), object(8)\n",
      "memory usage: 18.1+ MB\n"
     ]
    }
   ],
   "source": [
    "df.info()"
   ]
  },
  {
   "cell_type": "code",
   "execution_count": 12,
   "id": "26d513c3",
   "metadata": {},
   "outputs": [
    {
     "data": {
      "text/html": [
       "<div>\n",
       "<style scoped>\n",
       "    .dataframe tbody tr th:only-of-type {\n",
       "        vertical-align: middle;\n",
       "    }\n",
       "\n",
       "    .dataframe tbody tr th {\n",
       "        vertical-align: top;\n",
       "    }\n",
       "\n",
       "    .dataframe thead th {\n",
       "        text-align: right;\n",
       "    }\n",
       "</style>\n",
       "<table border=\"1\" class=\"dataframe\">\n",
       "  <thead>\n",
       "    <tr style=\"text-align: right;\">\n",
       "      <th></th>\n",
       "      <th>ID</th>\n",
       "      <th>P04</th>\n",
       "      <th>P06</th>\n",
       "      <th>P07</th>\n",
       "      <th>P08</th>\n",
       "      <th>P09</th>\n",
       "      <th>P10</th>\n",
       "      <th>P11</th>\n",
       "      <th>P12</th>\n",
       "      <th>P13</th>\n",
       "      <th>...</th>\n",
       "      <th>VD_EDUCACAO</th>\n",
       "      <th>POP_UF_SEXO</th>\n",
       "      <th>POP_UF_RACA</th>\n",
       "      <th>POP_UF_IDADE</th>\n",
       "      <th>POP_UF_RESIDENCIA</th>\n",
       "      <th>POP_UF_PORTE</th>\n",
       "      <th>POP_UF_TRABALHO</th>\n",
       "      <th>POP_UF_EDU</th>\n",
       "      <th>W1</th>\n",
       "      <th>W2</th>\n",
       "    </tr>\n",
       "  </thead>\n",
       "  <tbody>\n",
       "    <tr>\n",
       "      <th>0</th>\n",
       "      <td>1</td>\n",
       "      <td>41</td>\n",
       "      <td>3</td>\n",
       "      <td>3</td>\n",
       "      <td>4</td>\n",
       "      <td>2</td>\n",
       "      <td>2</td>\n",
       "      <td>2</td>\n",
       "      <td>2</td>\n",
       "      <td>1</td>\n",
       "      <td>...</td>\n",
       "      <td>4</td>\n",
       "      <td>4599548,01319187</td>\n",
       "      <td>5928889,83043946</td>\n",
       "      <td>1736626,25524565</td>\n",
       "      <td>8334552,9943779</td>\n",
       "      <td>4791536</td>\n",
       "      <td>5981782,45942209</td>\n",
       "      <td>2337434,74097726</td>\n",
       "      <td>2,79749300778953</td>\n",
       "      <td>12549,6687231227</td>\n",
       "    </tr>\n",
       "    <tr>\n",
       "      <th>1</th>\n",
       "      <td>2</td>\n",
       "      <td>29</td>\n",
       "      <td>2</td>\n",
       "      <td>2</td>\n",
       "      <td>2</td>\n",
       "      <td>2</td>\n",
       "      <td>2</td>\n",
       "      <td>2</td>\n",
       "      <td>2</td>\n",
       "      <td>2</td>\n",
       "      <td>...</td>\n",
       "      <td>3</td>\n",
       "      <td>6203186,58563845</td>\n",
       "      <td>9446410,89141747</td>\n",
       "      <td>2251115,21205504</td>\n",
       "      <td>8765141,45702551</td>\n",
       "      <td>3033950</td>\n",
       "      <td>970710,50572401</td>\n",
       "      <td>3842125,61215856</td>\n",
       "      <td>1,12345379164713</td>\n",
       "      <td>2805,47489557209</td>\n",
       "    </tr>\n",
       "    <tr>\n",
       "      <th>2</th>\n",
       "      <td>3</td>\n",
       "      <td>28</td>\n",
       "      <td>1</td>\n",
       "      <td>2</td>\n",
       "      <td>2</td>\n",
       "      <td>2</td>\n",
       "      <td>2</td>\n",
       "      <td>2</td>\n",
       "      <td>2</td>\n",
       "      <td>2</td>\n",
       "      <td>...</td>\n",
       "      <td>3</td>\n",
       "      <td>966058,41748564</td>\n",
       "      <td>1406439,72866629</td>\n",
       "      <td>527384,65232656</td>\n",
       "      <td>371734,75555842</td>\n",
       "      <td>998303</td>\n",
       "      <td>995087,55192826</td>\n",
       "      <td>527747,57235541</td>\n",
       "      <td>0,335079450803203</td>\n",
       "      <td>3533,35524432939</td>\n",
       "    </tr>\n",
       "    <tr>\n",
       "      <th>3</th>\n",
       "      <td>4</td>\n",
       "      <td>28</td>\n",
       "      <td>3</td>\n",
       "      <td>2</td>\n",
       "      <td>2</td>\n",
       "      <td>2</td>\n",
       "      <td>1</td>\n",
       "      <td>2</td>\n",
       "      <td>2</td>\n",
       "      <td>2</td>\n",
       "      <td>...</td>\n",
       "      <td>1</td>\n",
       "      <td>966058,41748564</td>\n",
       "      <td>1406439,72866629</td>\n",
       "      <td>374974,77422564</td>\n",
       "      <td>1462103,48138951</td>\n",
       "      <td>608944</td>\n",
       "      <td>728396,78367523</td>\n",
       "      <td>679620,91966034</td>\n",
       "      <td>0,335079450803203</td>\n",
       "      <td>16466,2467766673</td>\n",
       "    </tr>\n",
       "    <tr>\n",
       "      <th>4</th>\n",
       "      <td>5</td>\n",
       "      <td>24</td>\n",
       "      <td>1</td>\n",
       "      <td>2</td>\n",
       "      <td>1</td>\n",
       "      <td>3</td>\n",
       "      <td>2</td>\n",
       "      <td>2</td>\n",
       "      <td>2</td>\n",
       "      <td>1</td>\n",
       "      <td>...</td>\n",
       "      <td>3</td>\n",
       "      <td>1345034,43392631</td>\n",
       "      <td>1067871,54843917</td>\n",
       "      <td>582338,13699172</td>\n",
       "      <td>2344797,51342096</td>\n",
       "      <td>973772</td>\n",
       "      <td>1378587,88363752</td>\n",
       "      <td>865902,52059461</td>\n",
       "      <td>0,242935105861798</td>\n",
       "      <td>2386,70789580883</td>\n",
       "    </tr>\n",
       "  </tbody>\n",
       "</table>\n",
       "<p>5 rows × 109 columns</p>\n",
       "</div>"
      ],
      "text/plain": [
       "   ID  P04  P06  P07  P08  P09  P10  P11  P12  P13  ...  VD_EDUCACAO  \\\n",
       "0   1   41    3    3    4    2    2    2    2    1  ...            4   \n",
       "1   2   29    2    2    2    2    2    2    2    2  ...            3   \n",
       "2   3   28    1    2    2    2    2    2    2    2  ...            3   \n",
       "3   4   28    3    2    2    2    1    2    2    2  ...            1   \n",
       "4   5   24    1    2    1    3    2    2    2    1  ...            3   \n",
       "\n",
       "        POP_UF_SEXO       POP_UF_RACA      POP_UF_IDADE  POP_UF_RESIDENCIA  \\\n",
       "0  4599548,01319187  5928889,83043946  1736626,25524565    8334552,9943779   \n",
       "1  6203186,58563845  9446410,89141747  2251115,21205504   8765141,45702551   \n",
       "2   966058,41748564  1406439,72866629   527384,65232656    371734,75555842   \n",
       "3   966058,41748564  1406439,72866629   374974,77422564   1462103,48138951   \n",
       "4  1345034,43392631  1067871,54843917   582338,13699172   2344797,51342096   \n",
       "\n",
       "   POP_UF_PORTE   POP_UF_TRABALHO        POP_UF_EDU                 W1  \\\n",
       "0       4791536  5981782,45942209  2337434,74097726   2,79749300778953   \n",
       "1       3033950   970710,50572401  3842125,61215856   1,12345379164713   \n",
       "2        998303   995087,55192826   527747,57235541  0,335079450803203   \n",
       "3        608944   728396,78367523   679620,91966034  0,335079450803203   \n",
       "4        973772  1378587,88363752   865902,52059461  0,242935105861798   \n",
       "\n",
       "                 W2  \n",
       "0  12549,6687231227  \n",
       "1  2805,47489557209  \n",
       "2  3533,35524432939  \n",
       "3  16466,2467766673  \n",
       "4  2386,70789580883  \n",
       "\n",
       "[5 rows x 109 columns]"
      ]
     },
     "execution_count": 12,
     "metadata": {},
     "output_type": "execute_result"
    }
   ],
   "source": [
    "df.head()"
   ]
  },
  {
   "cell_type": "markdown",
   "id": "2b98a8a3",
   "metadata": {},
   "source": [
    "O conjunto de dados inicialmente contém 21.808 linhas e 109 colunas (perguntas). Cada linha é a resposta de um entrevistado para as 109 perguntas. É possível observar que tanto as perguntas quanto as respostas estão em formato numérico. Dessa forma, para facilitar o entendimento e a análise dos dados, cabe converter esses valores para a forma textual."
   ]
  }
 ],
 "metadata": {
  "kernelspec": {
   "display_name": "Python 3",
   "language": "python",
   "name": "python3"
  },
  "language_info": {
   "codemirror_mode": {
    "name": "ipython",
    "version": 3
   },
   "file_extension": ".py",
   "mimetype": "text/x-python",
   "name": "python",
   "nbconvert_exporter": "python",
   "pygments_lexer": "ipython3",
   "version": "3.12.0"
  }
 },
 "nbformat": 4,
 "nbformat_minor": 5
}
