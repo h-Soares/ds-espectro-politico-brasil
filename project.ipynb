{
 "cells": [
  {
   "cell_type": "markdown",
   "id": "f86dc8f1",
   "metadata": {},
   "source": [
    "# **Análise e predição do posicionamento político do eleitor brasileiro**"
   ]
  },
  {
   "cell_type": "markdown",
   "id": "f7d5a9ca",
   "metadata": {},
   "source": [
    "Projeto final realizado para a disciplina de Ciência de Dados do curso de Ciência da Computação, *Universidade de São Paulo*."
   ]
  },
  {
   "cell_type": "markdown",
   "id": "cd963c54",
   "metadata": {},
   "source": [
    "## **Introdução**"
   ]
  },
  {
   "cell_type": "markdown",
   "id": "fdb4ac1e",
   "metadata": {},
   "source": [
    "O presente trabalho tem como objetivo realizar, primeiramente, uma *análise exploratória* dos dados provenientes de uma pesquisa de opinião sobre o perfil ideológico dos eleitores brasileiros, feita pelo Instituto DataSenado no ano de 2024. O conjunto de dados original contém diversas variáveis de natureza sociodemográfica, comportamental e política, mas nem todas serão utilizadas. Serão mantidas somente aquelas que possam contribuir para compreender a variável alvo (*target*) **Posicionamento Político**, que representa o espectro político autodeclarado por cada participante. A análise de dados buscará, portanto, investigar as relações entre a variável target e as demais variáveis selecionadas, por meio de visualizações gráficas e métodos estatísticos. \n",
    "\n",
    "Após a fase exploratória, o projeto avançará para a segunda etapa: a construção de um modelo preditivo. Com o uso de técnicas de *machine learning*, o objetivo será desenvolver um modelo capaz de prever o espectro político com base nas respostas às variáveis selecionadas da pesquisa.\n",
    "\n",
    "Importante mencionar que este trabalho não se preocupará em fazer inferência sobre a preferência política da população brasileira como um todo, tendo em vista que uma parcela significativa dos dados originais não será utilizada.\n",
    "\n",
    "* <small>Os dados utilizados neste trabalho foram obtidos por meio dos microdados disponibilizados pelo Instituto DataSenado em <a href=\"https://www12.senado.leg.br/institucional/datasenado/publicacaodatasenado?id=pesquisa-traca-perfil-ideologico-dos-eleitores-brasileiros\" target=\"_blank\" rel=\"noopener noreferrer\">Pesquisa traça perfil ideológico dos eleitores brasileiros</a>.</small>\n",
    "* <small>Junto com os dados foi disponibilizado um dicionário para auxiliar na interpretação.</small>"
   ]
  },
  {
   "cell_type": "markdown",
   "id": "e2823bd3",
   "metadata": {},
   "source": [
    "## **1. Importação de bibliotecas**"
   ]
  },
  {
   "cell_type": "code",
   "execution_count": 1,
   "id": "22ea69bf",
   "metadata": {},
   "outputs": [],
   "source": [
    "import pandas as pd\n",
    "import matplotlib.pyplot as plt\n",
    "import seaborn as sns"
   ]
  },
  {
   "cell_type": "markdown",
   "id": "1691365f",
   "metadata": {},
   "source": [
    "## **2. Carregamento dos dados**"
   ]
  },
  {
   "cell_type": "code",
   "execution_count": 2,
   "id": "0a048509",
   "metadata": {},
   "outputs": [],
   "source": [
    "df = pd.read_csv(r'data\\raw\\panorama_politico_06_2024\\DATASEN BR 2024 06 BAROMETRO - DADOS.csv', sep=';')"
   ]
  },
  {
   "cell_type": "markdown",
   "id": "dfa3ca88",
   "metadata": {},
   "source": [
    "## **3. Visão geral dos dados não tratados**"
   ]
  },
  {
   "cell_type": "code",
   "execution_count": 3,
   "id": "9948eefb",
   "metadata": {},
   "outputs": [
    {
     "data": {
      "text/plain": [
       "(21808, 109)"
      ]
     },
     "execution_count": 3,
     "metadata": {},
     "output_type": "execute_result"
    }
   ],
   "source": [
    "df.shape"
   ]
  },
  {
   "cell_type": "code",
   "execution_count": 4,
   "id": "ba1ea0bc",
   "metadata": {},
   "outputs": [
    {
     "name": "stdout",
     "output_type": "stream",
     "text": [
      "<class 'pandas.core.frame.DataFrame'>\n",
      "RangeIndex: 21808 entries, 0 to 21807\n",
      "Columns: 109 entries, ID to W2\n",
      "dtypes: float64(49), int64(52), object(8)\n",
      "memory usage: 18.1+ MB\n"
     ]
    }
   ],
   "source": [
    "df.info()"
   ]
  },
  {
   "cell_type": "code",
   "execution_count": 5,
   "id": "26d513c3",
   "metadata": {},
   "outputs": [
    {
     "data": {
      "text/html": [
       "<div>\n",
       "<style scoped>\n",
       "    .dataframe tbody tr th:only-of-type {\n",
       "        vertical-align: middle;\n",
       "    }\n",
       "\n",
       "    .dataframe tbody tr th {\n",
       "        vertical-align: top;\n",
       "    }\n",
       "\n",
       "    .dataframe thead th {\n",
       "        text-align: right;\n",
       "    }\n",
       "</style>\n",
       "<table border=\"1\" class=\"dataframe\">\n",
       "  <thead>\n",
       "    <tr style=\"text-align: right;\">\n",
       "      <th></th>\n",
       "      <th>ID</th>\n",
       "      <th>P04</th>\n",
       "      <th>P06</th>\n",
       "      <th>P07</th>\n",
       "      <th>P08</th>\n",
       "      <th>P09</th>\n",
       "      <th>P10</th>\n",
       "      <th>P11</th>\n",
       "      <th>P12</th>\n",
       "      <th>P13</th>\n",
       "      <th>...</th>\n",
       "      <th>VD_EDUCACAO</th>\n",
       "      <th>POP_UF_SEXO</th>\n",
       "      <th>POP_UF_RACA</th>\n",
       "      <th>POP_UF_IDADE</th>\n",
       "      <th>POP_UF_RESIDENCIA</th>\n",
       "      <th>POP_UF_PORTE</th>\n",
       "      <th>POP_UF_TRABALHO</th>\n",
       "      <th>POP_UF_EDU</th>\n",
       "      <th>W1</th>\n",
       "      <th>W2</th>\n",
       "    </tr>\n",
       "  </thead>\n",
       "  <tbody>\n",
       "    <tr>\n",
       "      <th>0</th>\n",
       "      <td>1</td>\n",
       "      <td>41</td>\n",
       "      <td>3</td>\n",
       "      <td>3</td>\n",
       "      <td>4</td>\n",
       "      <td>2</td>\n",
       "      <td>2</td>\n",
       "      <td>2</td>\n",
       "      <td>2</td>\n",
       "      <td>1</td>\n",
       "      <td>...</td>\n",
       "      <td>4</td>\n",
       "      <td>4599548,01319187</td>\n",
       "      <td>5928889,83043946</td>\n",
       "      <td>1736626,25524565</td>\n",
       "      <td>8334552,9943779</td>\n",
       "      <td>4791536</td>\n",
       "      <td>5981782,45942209</td>\n",
       "      <td>2337434,74097726</td>\n",
       "      <td>2,79749300778953</td>\n",
       "      <td>12549,6687231227</td>\n",
       "    </tr>\n",
       "    <tr>\n",
       "      <th>1</th>\n",
       "      <td>2</td>\n",
       "      <td>29</td>\n",
       "      <td>2</td>\n",
       "      <td>2</td>\n",
       "      <td>2</td>\n",
       "      <td>2</td>\n",
       "      <td>2</td>\n",
       "      <td>2</td>\n",
       "      <td>2</td>\n",
       "      <td>2</td>\n",
       "      <td>...</td>\n",
       "      <td>3</td>\n",
       "      <td>6203186,58563845</td>\n",
       "      <td>9446410,89141747</td>\n",
       "      <td>2251115,21205504</td>\n",
       "      <td>8765141,45702551</td>\n",
       "      <td>3033950</td>\n",
       "      <td>970710,50572401</td>\n",
       "      <td>3842125,61215856</td>\n",
       "      <td>1,12345379164713</td>\n",
       "      <td>2805,47489557209</td>\n",
       "    </tr>\n",
       "    <tr>\n",
       "      <th>2</th>\n",
       "      <td>3</td>\n",
       "      <td>28</td>\n",
       "      <td>1</td>\n",
       "      <td>2</td>\n",
       "      <td>2</td>\n",
       "      <td>2</td>\n",
       "      <td>2</td>\n",
       "      <td>2</td>\n",
       "      <td>2</td>\n",
       "      <td>2</td>\n",
       "      <td>...</td>\n",
       "      <td>3</td>\n",
       "      <td>966058,41748564</td>\n",
       "      <td>1406439,72866629</td>\n",
       "      <td>527384,65232656</td>\n",
       "      <td>371734,75555842</td>\n",
       "      <td>998303</td>\n",
       "      <td>995087,55192826</td>\n",
       "      <td>527747,57235541</td>\n",
       "      <td>0,335079450803203</td>\n",
       "      <td>3533,35524432939</td>\n",
       "    </tr>\n",
       "    <tr>\n",
       "      <th>3</th>\n",
       "      <td>4</td>\n",
       "      <td>28</td>\n",
       "      <td>3</td>\n",
       "      <td>2</td>\n",
       "      <td>2</td>\n",
       "      <td>2</td>\n",
       "      <td>1</td>\n",
       "      <td>2</td>\n",
       "      <td>2</td>\n",
       "      <td>2</td>\n",
       "      <td>...</td>\n",
       "      <td>1</td>\n",
       "      <td>966058,41748564</td>\n",
       "      <td>1406439,72866629</td>\n",
       "      <td>374974,77422564</td>\n",
       "      <td>1462103,48138951</td>\n",
       "      <td>608944</td>\n",
       "      <td>728396,78367523</td>\n",
       "      <td>679620,91966034</td>\n",
       "      <td>0,335079450803203</td>\n",
       "      <td>16466,2467766673</td>\n",
       "    </tr>\n",
       "    <tr>\n",
       "      <th>4</th>\n",
       "      <td>5</td>\n",
       "      <td>24</td>\n",
       "      <td>1</td>\n",
       "      <td>2</td>\n",
       "      <td>1</td>\n",
       "      <td>3</td>\n",
       "      <td>2</td>\n",
       "      <td>2</td>\n",
       "      <td>2</td>\n",
       "      <td>1</td>\n",
       "      <td>...</td>\n",
       "      <td>3</td>\n",
       "      <td>1345034,43392631</td>\n",
       "      <td>1067871,54843917</td>\n",
       "      <td>582338,13699172</td>\n",
       "      <td>2344797,51342096</td>\n",
       "      <td>973772</td>\n",
       "      <td>1378587,88363752</td>\n",
       "      <td>865902,52059461</td>\n",
       "      <td>0,242935105861798</td>\n",
       "      <td>2386,70789580883</td>\n",
       "    </tr>\n",
       "  </tbody>\n",
       "</table>\n",
       "<p>5 rows × 109 columns</p>\n",
       "</div>"
      ],
      "text/plain": [
       "   ID  P04  P06  P07  P08  P09  P10  P11  P12  P13  ...  VD_EDUCACAO  \\\n",
       "0   1   41    3    3    4    2    2    2    2    1  ...            4   \n",
       "1   2   29    2    2    2    2    2    2    2    2  ...            3   \n",
       "2   3   28    1    2    2    2    2    2    2    2  ...            3   \n",
       "3   4   28    3    2    2    2    1    2    2    2  ...            1   \n",
       "4   5   24    1    2    1    3    2    2    2    1  ...            3   \n",
       "\n",
       "        POP_UF_SEXO       POP_UF_RACA      POP_UF_IDADE  POP_UF_RESIDENCIA  \\\n",
       "0  4599548,01319187  5928889,83043946  1736626,25524565    8334552,9943779   \n",
       "1  6203186,58563845  9446410,89141747  2251115,21205504   8765141,45702551   \n",
       "2   966058,41748564  1406439,72866629   527384,65232656    371734,75555842   \n",
       "3   966058,41748564  1406439,72866629   374974,77422564   1462103,48138951   \n",
       "4  1345034,43392631  1067871,54843917   582338,13699172   2344797,51342096   \n",
       "\n",
       "   POP_UF_PORTE   POP_UF_TRABALHO        POP_UF_EDU                 W1  \\\n",
       "0       4791536  5981782,45942209  2337434,74097726   2,79749300778953   \n",
       "1       3033950   970710,50572401  3842125,61215856   1,12345379164713   \n",
       "2        998303   995087,55192826   527747,57235541  0,335079450803203   \n",
       "3        608944   728396,78367523   679620,91966034  0,335079450803203   \n",
       "4        973772  1378587,88363752   865902,52059461  0,242935105861798   \n",
       "\n",
       "                 W2  \n",
       "0  12549,6687231227  \n",
       "1  2805,47489557209  \n",
       "2  3533,35524432939  \n",
       "3  16466,2467766673  \n",
       "4  2386,70789580883  \n",
       "\n",
       "[5 rows x 109 columns]"
      ]
     },
     "execution_count": 5,
     "metadata": {},
     "output_type": "execute_result"
    }
   ],
   "source": [
    "df.head()"
   ]
  },
  {
   "cell_type": "markdown",
   "id": "2b98a8a3",
   "metadata": {},
   "source": [
    "O conjunto de dados inicialmente contém 21.808 linhas e 109 colunas (perguntas). Cada linha é a resposta de um entrevistado para as 109 perguntas. É possível observar que tanto as perguntas quanto as respostas estão em formato numérico. Dessa forma, para facilitar o entendimento e a análise dos dados, cabe converter esses valores para a forma textual."
   ]
  },
  {
   "cell_type": "markdown",
   "id": "91d1023c",
   "metadata": {},
   "source": [
    "## **4. Tratamento dos dados**"
   ]
  },
  {
   "cell_type": "markdown",
   "id": "a1ff22f6",
   "metadata": {},
   "source": [
    "### **4.1. Filtrando por colunas importantes**"
   ]
  },
  {
   "cell_type": "markdown",
   "id": "b21f731f",
   "metadata": {},
   "source": [
    "Após análise detalhada do dicionário do conjunto de dados, foi possível selecionar as perguntas mais relevantes para serem correlacionadas com o espectro político (pergunta **P64**). Nestre trabalho, serão incluídas apenas as respostas que expressem uma **posição política clara (esquerda, direita ou centro)**, de tal forma que serão desconsideradas opções neutras ou indefinidas."
   ]
  },
  {
   "cell_type": "code",
   "execution_count": 6,
   "id": "bee05eac",
   "metadata": {},
   "outputs": [],
   "source": [
    "selected_columns = [ \n",
    "    \"P04\",\n",
    "    \"P50\",\n",
    "    \"P51\",\n",
    "    \"P52\",\n",
    "    \"P54\",\n",
    "    \"P55\",\n",
    "    \"P56\",\n",
    "    \"P57\",\n",
    "    \"P58\",\n",
    "    \"P59\",\n",
    "    \"P60\",\n",
    "    \"P61\",\n",
    "    \"P62\",\n",
    "    \"P63\",\n",
    "    \"V02\",\n",
    "    \"V03\",\n",
    "    \"V08\",\n",
    "    \"V27\",\n",
    "    \"VD_EDUCACAO\",\n",
    "    \"VD_REGIAO\",\n",
    "    \"VD_IDADE\",\n",
    "    \"P64\"  # Variável alvo que identifica o espectro político\n",
    "]\n",
    "\n",
    "df = df[selected_columns]\n",
    "df = df[df['P64'].isin([1, 2, 3])].reset_index(drop=True) # Para filtrar apenas respostas: esquerda, direita, centro"
   ]
  },
  {
   "cell_type": "code",
   "execution_count": 7,
   "id": "0e66d42a",
   "metadata": {},
   "outputs": [
    {
     "data": {
      "text/plain": [
       "(12345, 22)"
      ]
     },
     "execution_count": 7,
     "metadata": {},
     "output_type": "execute_result"
    }
   ],
   "source": [
    "df.shape"
   ]
  },
  {
   "cell_type": "code",
   "execution_count": 8,
   "id": "e030c4a1",
   "metadata": {},
   "outputs": [
    {
     "name": "stdout",
     "output_type": "stream",
     "text": [
      "<class 'pandas.core.frame.DataFrame'>\n",
      "RangeIndex: 12345 entries, 0 to 12344\n",
      "Data columns (total 22 columns):\n",
      " #   Column       Non-Null Count  Dtype  \n",
      "---  ------       --------------  -----  \n",
      " 0   P04          12345 non-null  int64  \n",
      " 1   P50          8901 non-null   float64\n",
      " 2   P51          8901 non-null   float64\n",
      " 3   P52          8901 non-null   float64\n",
      " 4   P54          8901 non-null   float64\n",
      " 5   P55          12345 non-null  int64  \n",
      " 6   P56          12345 non-null  int64  \n",
      " 7   P57          12345 non-null  int64  \n",
      " 8   P58          12345 non-null  int64  \n",
      " 9   P59          12345 non-null  int64  \n",
      " 10  P60          12345 non-null  int64  \n",
      " 11  P61          12345 non-null  int64  \n",
      " 12  P62          12345 non-null  int64  \n",
      " 13  P63          12345 non-null  int64  \n",
      " 14  V02          12345 non-null  int64  \n",
      " 15  V03          12345 non-null  int64  \n",
      " 16  V08          12345 non-null  int64  \n",
      " 17  V27          12345 non-null  int64  \n",
      " 18  VD_EDUCACAO  12345 non-null  int64  \n",
      " 19  VD_REGIAO    12345 non-null  int64  \n",
      " 20  VD_IDADE     12345 non-null  int64  \n",
      " 21  P64          12345 non-null  int64  \n",
      "dtypes: float64(4), int64(18)\n",
      "memory usage: 2.1 MB\n"
     ]
    }
   ],
   "source": [
    "df.info()"
   ]
  },
  {
   "cell_type": "markdown",
   "id": "d2ec7156",
   "metadata": {},
   "source": [
    "### **4.2. Lidando com dados faltantes**"
   ]
  },
  {
   "cell_type": "code",
   "execution_count": 9,
   "id": "d4374fca",
   "metadata": {},
   "outputs": [
    {
     "data": {
      "text/plain": [
       "P04               0\n",
       "P50            3444\n",
       "P51            3444\n",
       "P52            3444\n",
       "P54            3444\n",
       "P55               0\n",
       "P56               0\n",
       "P57               0\n",
       "P58               0\n",
       "P59               0\n",
       "P60               0\n",
       "P61               0\n",
       "P62               0\n",
       "P63               0\n",
       "V02               0\n",
       "V03               0\n",
       "V08               0\n",
       "V27               0\n",
       "VD_EDUCACAO       0\n",
       "VD_REGIAO         0\n",
       "VD_IDADE          0\n",
       "P64               0\n",
       "dtype: int64"
      ]
     },
     "execution_count": 9,
     "metadata": {},
     "output_type": "execute_result"
    }
   ],
   "source": [
    "df.isna().sum()"
   ]
  },
  {
   "cell_type": "code",
   "execution_count": 10,
   "id": "135188d3",
   "metadata": {},
   "outputs": [
    {
     "data": {
      "text/plain": [
       "3444"
      ]
     },
     "execution_count": 10,
     "metadata": {},
     "output_type": "execute_result"
    }
   ],
   "source": [
    "df[df[['P50', 'P51', 'P52', 'P54']].isna().all(axis=1)].shape[0]"
   ]
  },
  {
   "cell_type": "code",
   "execution_count": 11,
   "id": "a2fa4f19",
   "metadata": {},
   "outputs": [
    {
     "data": {
      "text/plain": [
       "P04            0.000000\n",
       "P50            0.278979\n",
       "P51            0.278979\n",
       "P52            0.278979\n",
       "P54            0.278979\n",
       "P55            0.000000\n",
       "P56            0.000000\n",
       "P57            0.000000\n",
       "P58            0.000000\n",
       "P59            0.000000\n",
       "P60            0.000000\n",
       "P61            0.000000\n",
       "P62            0.000000\n",
       "P63            0.000000\n",
       "V02            0.000000\n",
       "V03            0.000000\n",
       "V08            0.000000\n",
       "V27            0.000000\n",
       "VD_EDUCACAO    0.000000\n",
       "VD_REGIAO      0.000000\n",
       "VD_IDADE       0.000000\n",
       "P64            0.000000\n",
       "dtype: float64"
      ]
     },
     "execution_count": 11,
     "metadata": {},
     "output_type": "execute_result"
    }
   ],
   "source": [
    "df.isna().sum() / df.shape[0]"
   ]
  },
  {
   "cell_type": "markdown",
   "id": "fdd407c0",
   "metadata": {},
   "source": [
    "Como é possível observar, **há 3.444 valores nulos** para as variáveis **P50**, **P51**, **P52** e **P54**, que sempre ocorrem simultaneamente, ou seja, sempre que uma dessas variáveis é nula, todas as outras também o são. Essas ausências, entretanto, não representam dados faltantes no sentido tradicional, mas sim um caso de **ausência por desenho** do questionário (***missing by design***), que refere-se à prática intencional de **omitir dados** durante a coleta para otimizar a pesquisa ou para obter informações específicas, em vez de considerar os dados como perdidos por acidente ou erro. Conforme indicado no questionário, as perguntas P47 a P49 possuem uma lógica de salto: dependendo das respostas dadas pelo entrevistado, o entrevistador **avançará diretamente** para a pergunta P55.\n",
    "\n",
    "<p style=\"text-align:center;\">\n",
    "  <img src=\"images/missing.png\" alt=\"missing\" style=\"max-width:100%; height:auto;\">\n",
    "</p>\n",
    "\n",
    "Isso representa 3.444 linhas, quase **30% do conjunto de dados**. Assim, para não perder essa quantidade significativa de dados, será adotada a abordagem de substituir os valores faltantes por \"*-1 : Não se aplica*\"."
   ]
  },
  {
   "cell_type": "code",
   "execution_count": 12,
   "id": "e7137881",
   "metadata": {},
   "outputs": [
    {
     "data": {
      "text/plain": [
       "P04            0\n",
       "P50            0\n",
       "P51            0\n",
       "P52            0\n",
       "P54            0\n",
       "P55            0\n",
       "P56            0\n",
       "P57            0\n",
       "P58            0\n",
       "P59            0\n",
       "P60            0\n",
       "P61            0\n",
       "P62            0\n",
       "P63            0\n",
       "V02            0\n",
       "V03            0\n",
       "V08            0\n",
       "V27            0\n",
       "VD_EDUCACAO    0\n",
       "VD_REGIAO      0\n",
       "VD_IDADE       0\n",
       "P64            0\n",
       "dtype: int64"
      ]
     },
     "execution_count": 12,
     "metadata": {},
     "output_type": "execute_result"
    }
   ],
   "source": [
    "cols = ['P50', 'P51', 'P52', 'P54']\n",
    "mask = df[cols].isna().all(axis=1)\n",
    "df.loc[mask, cols] = -1\n",
    "\n",
    "df.isna().sum()"
   ]
  },
  {
   "cell_type": "code",
   "execution_count": 13,
   "id": "573553f7",
   "metadata": {},
   "outputs": [
    {
     "data": {
      "text/plain": [
       "(12345, 22)"
      ]
     },
     "execution_count": 13,
     "metadata": {},
     "output_type": "execute_result"
    }
   ],
   "source": [
    "df.shape"
   ]
  },
  {
   "cell_type": "markdown",
   "id": "7957162e",
   "metadata": {},
   "source": [
    "### **4.3. Lidando com dados duplicados**"
   ]
  },
  {
   "cell_type": "code",
   "execution_count": 14,
   "id": "9786f768",
   "metadata": {},
   "outputs": [
    {
     "data": {
      "text/plain": [
       "2"
      ]
     },
     "execution_count": 14,
     "metadata": {},
     "output_type": "execute_result"
    }
   ],
   "source": [
    "df.duplicated().sum()"
   ]
  },
  {
   "cell_type": "code",
   "execution_count": 15,
   "id": "93e81dda",
   "metadata": {},
   "outputs": [
    {
     "data": {
      "text/html": [
       "<div>\n",
       "<style scoped>\n",
       "    .dataframe tbody tr th:only-of-type {\n",
       "        vertical-align: middle;\n",
       "    }\n",
       "\n",
       "    .dataframe tbody tr th {\n",
       "        vertical-align: top;\n",
       "    }\n",
       "\n",
       "    .dataframe thead th {\n",
       "        text-align: right;\n",
       "    }\n",
       "</style>\n",
       "<table border=\"1\" class=\"dataframe\">\n",
       "  <thead>\n",
       "    <tr style=\"text-align: right;\">\n",
       "      <th></th>\n",
       "      <th>P04</th>\n",
       "      <th>P50</th>\n",
       "      <th>P51</th>\n",
       "      <th>P52</th>\n",
       "      <th>P54</th>\n",
       "      <th>P55</th>\n",
       "      <th>P56</th>\n",
       "      <th>P57</th>\n",
       "      <th>P58</th>\n",
       "      <th>P59</th>\n",
       "      <th>...</th>\n",
       "      <th>P62</th>\n",
       "      <th>P63</th>\n",
       "      <th>V02</th>\n",
       "      <th>V03</th>\n",
       "      <th>V08</th>\n",
       "      <th>V27</th>\n",
       "      <th>VD_EDUCACAO</th>\n",
       "      <th>VD_REGIAO</th>\n",
       "      <th>VD_IDADE</th>\n",
       "      <th>P64</th>\n",
       "    </tr>\n",
       "  </thead>\n",
       "  <tbody>\n",
       "    <tr>\n",
       "      <th>1596</th>\n",
       "      <td>16</td>\n",
       "      <td>2.0</td>\n",
       "      <td>2.0</td>\n",
       "      <td>1.0</td>\n",
       "      <td>1.0</td>\n",
       "      <td>1</td>\n",
       "      <td>2</td>\n",
       "      <td>1</td>\n",
       "      <td>2</td>\n",
       "      <td>1</td>\n",
       "      <td>...</td>\n",
       "      <td>3</td>\n",
       "      <td>1</td>\n",
       "      <td>2</td>\n",
       "      <td>3</td>\n",
       "      <td>2</td>\n",
       "      <td>2</td>\n",
       "      <td>4</td>\n",
       "      <td>1</td>\n",
       "      <td>2</td>\n",
       "      <td>2</td>\n",
       "    </tr>\n",
       "    <tr>\n",
       "      <th>3754</th>\n",
       "      <td>53</td>\n",
       "      <td>4.0</td>\n",
       "      <td>1.0</td>\n",
       "      <td>1.0</td>\n",
       "      <td>1.0</td>\n",
       "      <td>1</td>\n",
       "      <td>2</td>\n",
       "      <td>1</td>\n",
       "      <td>1</td>\n",
       "      <td>2</td>\n",
       "      <td>...</td>\n",
       "      <td>1</td>\n",
       "      <td>1</td>\n",
       "      <td>2</td>\n",
       "      <td>3</td>\n",
       "      <td>1</td>\n",
       "      <td>2</td>\n",
       "      <td>4</td>\n",
       "      <td>5</td>\n",
       "      <td>3</td>\n",
       "      <td>1</td>\n",
       "    </tr>\n",
       "    <tr>\n",
       "      <th>3833</th>\n",
       "      <td>16</td>\n",
       "      <td>2.0</td>\n",
       "      <td>2.0</td>\n",
       "      <td>1.0</td>\n",
       "      <td>1.0</td>\n",
       "      <td>1</td>\n",
       "      <td>2</td>\n",
       "      <td>1</td>\n",
       "      <td>2</td>\n",
       "      <td>1</td>\n",
       "      <td>...</td>\n",
       "      <td>3</td>\n",
       "      <td>1</td>\n",
       "      <td>2</td>\n",
       "      <td>3</td>\n",
       "      <td>2</td>\n",
       "      <td>2</td>\n",
       "      <td>4</td>\n",
       "      <td>1</td>\n",
       "      <td>2</td>\n",
       "      <td>2</td>\n",
       "    </tr>\n",
       "    <tr>\n",
       "      <th>3980</th>\n",
       "      <td>53</td>\n",
       "      <td>4.0</td>\n",
       "      <td>1.0</td>\n",
       "      <td>1.0</td>\n",
       "      <td>1.0</td>\n",
       "      <td>1</td>\n",
       "      <td>2</td>\n",
       "      <td>1</td>\n",
       "      <td>1</td>\n",
       "      <td>2</td>\n",
       "      <td>...</td>\n",
       "      <td>1</td>\n",
       "      <td>1</td>\n",
       "      <td>2</td>\n",
       "      <td>3</td>\n",
       "      <td>1</td>\n",
       "      <td>2</td>\n",
       "      <td>4</td>\n",
       "      <td>5</td>\n",
       "      <td>3</td>\n",
       "      <td>1</td>\n",
       "    </tr>\n",
       "  </tbody>\n",
       "</table>\n",
       "<p>4 rows × 22 columns</p>\n",
       "</div>"
      ],
      "text/plain": [
       "      P04  P50  P51  P52  P54  P55  P56  P57  P58  P59  ...  P62  P63  V02  \\\n",
       "1596   16  2.0  2.0  1.0  1.0    1    2    1    2    1  ...    3    1    2   \n",
       "3754   53  4.0  1.0  1.0  1.0    1    2    1    1    2  ...    1    1    2   \n",
       "3833   16  2.0  2.0  1.0  1.0    1    2    1    2    1  ...    3    1    2   \n",
       "3980   53  4.0  1.0  1.0  1.0    1    2    1    1    2  ...    1    1    2   \n",
       "\n",
       "      V03  V08  V27  VD_EDUCACAO  VD_REGIAO  VD_IDADE  P64  \n",
       "1596    3    2    2            4          1         2    2  \n",
       "3754    3    1    2            4          5         3    1  \n",
       "3833    3    2    2            4          1         2    2  \n",
       "3980    3    1    2            4          5         3    1  \n",
       "\n",
       "[4 rows x 22 columns]"
      ]
     },
     "execution_count": 15,
     "metadata": {},
     "output_type": "execute_result"
    }
   ],
   "source": [
    "df[df.duplicated(keep=False)]"
   ]
  },
  {
   "cell_type": "markdown",
   "id": "a1b48689",
   "metadata": {},
   "source": [
    "Conforme os resultados acima, pode-se observar a presença de **dois dados duplicados**. No entanto, **eles não serão removidos**, haja vista que esse conjunto de dados se trata de uma pesquisa realizada com várias pessoas nos diversos estados do país, e que é pouco provável, mas não impossível, que duas pessoas do mesmo estado tenham exatamente as mesmas respostas para as mesmas perguntas."
   ]
  },
  {
   "cell_type": "markdown",
   "id": "3c0c67d6",
   "metadata": {},
   "source": [
    "### **4.4. Convertendo para valores textuais**"
   ]
  },
  {
   "cell_type": "markdown",
   "id": "9de4b93d",
   "metadata": {},
   "source": [
    "Finalmente, pode-se realizar o mapeamento dos valores numéricos para seus respectivos valores textuais, considerando o dicionário de dados disponível. O conjunto de dados tratado em **4.2** não será descartado, pois será utilizado posteriormente para construir o modelo preditivo."
   ]
  },
  {
   "cell_type": "code",
   "execution_count": 16,
   "id": "44fa2d75",
   "metadata": {},
   "outputs": [],
   "source": [
    "def map_df_to_text(df_to_translate: pd.DataFrame, path_excel: str, columns_names: list[str]) -> pd.DataFrame:\n",
    "    \"\"\"\n",
    "    Função para mapear os valores numéricos do DataFrame para seus equivalentes textuais,\n",
    "    por meio de um dicionário de dados fornecido em um arquivo Excel.\n",
    "    O DataFrame original não é modificado, e uma cópia sua traduzida é retornada.\n",
    "\n",
    "    Parâmetros:\n",
    "    - df_to_translate: pd.DataFrame\n",
    "        DataFrame contendo os dados com valores numéricos a serem traduzidos.\n",
    "    - path_excel: str\n",
    "        Caminho para o arquivo Excel que contém o dicionário de dados.\n",
    "    - columns_names: list[str]\n",
    "        Lista com os novos nomes das colunas para o DataFrame traduzido.\n",
    "    \"\"\"\n",
    "    try:\n",
    "        # --- Passo 1: Carregar o Dicionário de Dados (arquivo XLSX) ---\n",
    "        df_excel = pd.read_excel(path_excel)\n",
    "\n",
    "        # --- Passo 2: Dicionário para VALORES das colunas ---\n",
    "        # Preenche as células vazias na coluna 'Código da variável' com o valor não nulo mais recente\n",
    "        df_excel['Código da variável'] = df_excel['Código da variável'].ffill()\n",
    "\n",
    "        # Máscara para filtrar apenas as linhas que contêm códigos válidos das categorias (não textuais)\n",
    "        mask = pd.to_numeric(df_excel['Código da categoria'], errors='coerce').notna()\n",
    "\n",
    "        # Filtra pela máscara e pelas colunas \"Código da variável\", \"Código da categoria\" e \"Descrição da categoria\"\n",
    "        df_excel = df_excel.loc[mask, ['Código da variável', 'Código da categoria', 'Descrição da categoria']]\n",
    "        df_excel['Código da categoria'] = pd.to_numeric(df_excel['Código da categoria'], errors='coerce').astype('Int64')\n",
    "\n",
    "        # Cria o dicionário aninhado para a substituição de valores das colunas\n",
    "        map_values = {}\n",
    "        for var_code, group in df_excel.groupby('Código da variável'):\n",
    "            map_values[str(var_code).strip()] = group.set_index('Código da categoria')['Descrição da categoria'].to_dict()\n",
    "\n",
    "    except FileNotFoundError:\n",
    "        print(f\"Erro: O arquivo '{path_excel}' não foi encontrado.\")\n",
    "        exit()\n",
    "    \n",
    "    df_to_return = df_to_translate.replace(map_values)\n",
    "    df_to_return.columns = columns_names\n",
    "\n",
    "    return df_to_return"
   ]
  },
  {
   "cell_type": "code",
   "execution_count": 17,
   "id": "1762aa6c",
   "metadata": {},
   "outputs": [],
   "source": [
    "path_excel = r\"data\\raw\\panorama_politico_06_2024\\DATASEN BR 2024 06 BAROMETRO - DICIONARIO DE DADOS.xlsx\"\n",
    "columns_names = [ 'estado', 'motivo_compart_fnews', 'identificar_fnews', 'empresas_impedir_fnews', 'importancia_controle_fnews',\n",
    "    'petrobras_combustiveis', 'uso_maconha', 'cotas_universidades', 'direito_aborto', 'pena_morte', 'posse_armas', 'confianca_urnas',\n",
    "    'satisfacao_democracia', 'regime_governo', 'sexo', 'cor_raca', 'religiao', 'renda_familiar', 'escolaridade', 'regiao', \n",
    "    'faixa_etaria', 'posicionamento_politico']\n",
    "\n",
    "df_text = map_df_to_text(df, path_excel, columns_names)"
   ]
  }
 ],
 "metadata": {
  "kernelspec": {
   "display_name": "Python 3",
   "language": "python",
   "name": "python3"
  },
  "language_info": {
   "codemirror_mode": {
    "name": "ipython",
    "version": 3
   },
   "file_extension": ".py",
   "mimetype": "text/x-python",
   "name": "python",
   "nbconvert_exporter": "python",
   "pygments_lexer": "ipython3",
   "version": "3.12.0"
  }
 },
 "nbformat": 4,
 "nbformat_minor": 5
}
